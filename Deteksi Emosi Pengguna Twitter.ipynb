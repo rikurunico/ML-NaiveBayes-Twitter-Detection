{
 "cells": [
  {
   "cell_type": "code",
   "execution_count": 44,
   "metadata": {},
   "outputs": [],
   "source": [
    "import numpy as np\n",
    "import pandas as pd"
   ]
  },
  {
   "cell_type": "code",
   "execution_count": 45,
   "metadata": {},
   "outputs": [
    {
     "data": {
      "text/html": [
       "<div>\n",
       "<style scoped>\n",
       "    .dataframe tbody tr th:only-of-type {\n",
       "        vertical-align: middle;\n",
       "    }\n",
       "\n",
       "    .dataframe tbody tr th {\n",
       "        vertical-align: top;\n",
       "    }\n",
       "\n",
       "    .dataframe thead th {\n",
       "        text-align: right;\n",
       "    }\n",
       "</style>\n",
       "<table border=\"1\" class=\"dataframe\">\n",
       "  <thead>\n",
       "    <tr style=\"text-align: right;\">\n",
       "      <th></th>\n",
       "      <th>tweet_id</th>\n",
       "      <th>sentiment</th>\n",
       "      <th>content</th>\n",
       "    </tr>\n",
       "  </thead>\n",
       "  <tbody>\n",
       "    <tr>\n",
       "      <th>0</th>\n",
       "      <td>1956967341</td>\n",
       "      <td>empty</td>\n",
       "      <td>@tiffanylue i know  i was listenin to bad habi...</td>\n",
       "    </tr>\n",
       "    <tr>\n",
       "      <th>1</th>\n",
       "      <td>1956967666</td>\n",
       "      <td>sadness</td>\n",
       "      <td>Layin n bed with a headache  ughhhh...waitin o...</td>\n",
       "    </tr>\n",
       "    <tr>\n",
       "      <th>2</th>\n",
       "      <td>1956967696</td>\n",
       "      <td>sadness</td>\n",
       "      <td>Funeral ceremony...gloomy friday...</td>\n",
       "    </tr>\n",
       "    <tr>\n",
       "      <th>3</th>\n",
       "      <td>1956967789</td>\n",
       "      <td>enthusiasm</td>\n",
       "      <td>wants to hang out with friends SOON!</td>\n",
       "    </tr>\n",
       "    <tr>\n",
       "      <th>4</th>\n",
       "      <td>1956968416</td>\n",
       "      <td>neutral</td>\n",
       "      <td>@dannycastillo We want to trade with someone w...</td>\n",
       "    </tr>\n",
       "  </tbody>\n",
       "</table>\n",
       "</div>"
      ],
      "text/plain": [
       "     tweet_id   sentiment                                            content\n",
       "0  1956967341       empty  @tiffanylue i know  i was listenin to bad habi...\n",
       "1  1956967666     sadness  Layin n bed with a headache  ughhhh...waitin o...\n",
       "2  1956967696     sadness                Funeral ceremony...gloomy friday...\n",
       "3  1956967789  enthusiasm               wants to hang out with friends SOON!\n",
       "4  1956968416     neutral  @dannycastillo We want to trade with someone w..."
      ]
     },
     "execution_count": 45,
     "metadata": {},
     "output_type": "execute_result"
    }
   ],
   "source": [
    "df = pd.read_csv('data/tweet_emotions.csv')\n",
    "df.head()"
   ]
  },
  {
   "cell_type": "markdown",
   "metadata": {},
   "source": [
    "## CaseFolding And Filtering"
   ]
  },
  {
   "cell_type": "code",
   "execution_count": 46,
   "metadata": {},
   "outputs": [],
   "source": [
    "# lowercase all text\n",
    "df['content'] = df['content'].str.lower()\n",
    "\n",
    "#remove @usernames\n",
    "df['content'] = df['content'].str.replace('@[^\\s]+',repl='',regex=True)\n",
    "\n",
    "#remove urls\n",
    "df['content'] = df['content'].str.replace('http\\S+|www.\\S+',repl='',regex=True)\n",
    "\n",
    "#remove non-ascii characters\n",
    "df['content'] = df['content'].str.replace('[^\\x00-\\x7F]+',repl='',regex=True)\n",
    "\n",
    "#remove numbers\n",
    "df['content'] = df['content'].str.replace('\\d+',repl='',regex=True)\n",
    "\n",
    "#remove punctuation\n",
    "df['content'] = df['content'].str.replace('[^\\w\\s]','',regex=True)\n",
    "\n",
    "#save to csv\n",
    "df.to_csv('data/tweet_emotions_clean.csv',index=False)"
   ]
  },
  {
   "cell_type": "markdown",
   "metadata": {},
   "source": [
    "## Tokenizing"
   ]
  },
  {
   "cell_type": "code",
   "execution_count": 47,
   "metadata": {},
   "outputs": [],
   "source": [
    "#tokenize library\n",
    "from nltk.tokenize import word_tokenize\n",
    "\n",
    "df = pd.read_csv('data/tweet_emotions_clean.csv')\n",
    "\n",
    "#change to string\n",
    "df['content'] = df['content'].astype(str)\n",
    "\n",
    "#tokenize\n",
    "df['content'] = df['content'].apply(word_tokenize)\n",
    "\n",
    "#save to csv\n",
    "df.to_csv('data/tweet_emotions_tokens.csv',index=False)"
   ]
  },
  {
   "cell_type": "markdown",
   "metadata": {},
   "source": [
    "## Stemming"
   ]
  },
  {
   "cell_type": "code",
   "execution_count": 48,
   "metadata": {},
   "outputs": [],
   "source": [
    "from nltk.stem import PorterStemmer\n",
    "\n",
    "df = pd.read_csv('data/tweet_emotions_tokens.csv')\n",
    "\n",
    "stemmer=PorterStemmer()\n",
    "\n",
    "sentences = df['content'].tolist()\n",
    "\n",
    "for i in range(len(sentences)):\n",
    "    words=word_tokenize(sentences[i])\n",
    "    #List comprehension\n",
    "    words=[stemmer.stem(word) for word in words]\n",
    "    sentences[i]=' '.join(words)\n",
    "\n",
    "#merge back to dataframe\n",
    "df['content'] = sentences\n",
    "\n",
    "#save to csv\n",
    "df.to_csv('data/tweet_emotions_stemmed.csv',index=False)"
   ]
  },
  {
   "cell_type": "markdown",
   "metadata": {},
   "source": [
    "# Feature Extraction"
   ]
  },
  {
   "cell_type": "code",
   "execution_count": 49,
   "metadata": {},
   "outputs": [
    {
     "name": "stdout",
     "output_type": "stream",
     "text": [
      "<class 'pandas.core.frame.DataFrame'>\n",
      "RangeIndex: 40000 entries, 0 to 39999\n",
      "Data columns (total 3 columns):\n",
      " #   Column     Non-Null Count  Dtype \n",
      "---  ------     --------------  ----- \n",
      " 0   tweet_id   40000 non-null  int64 \n",
      " 1   sentiment  40000 non-null  object\n",
      " 2   content    40000 non-null  object\n",
      "dtypes: int64(1), object(2)\n",
      "memory usage: 937.6+ KB\n",
      "None\n",
      "\n",
      "\n",
      "           tweet_id\n",
      "count  4.000000e+04\n",
      "mean   1.845184e+09\n",
      "std    1.188579e+08\n",
      "min    1.693956e+09\n",
      "25%    1.751431e+09\n",
      "50%    1.855443e+09\n",
      "75%    1.962781e+09\n",
      "max    1.966441e+09\n"
     ]
    }
   ],
   "source": [
    "df = pd.read_csv('data/tweet_emotions_stemmed.csv')\n",
    "\n",
    "#INSPEKSI DATA \n",
    "\n",
    "# Cek Kelengkapan Data\n",
    "print(df.info())\n",
    "print('\\n')\n",
    "\n",
    "# Cek Statistik Deskriptif\n",
    "print (df.describe())\n"
   ]
  },
  {
   "cell_type": "code",
   "execution_count": 50,
   "metadata": {},
   "outputs": [
    {
     "name": "stdout",
     "output_type": "stream",
     "text": [
      "     tweet_id  sentiment                                            content\n",
      "0  1956967341          2  [ ' i ' , 'know ' , ' i ' , 'wa ' , 'listenin ...\n",
      "1  1956967666         10  [ 'layin ' , 'n ' , 'bed ' , 'with ' , ' a ' ,...\n",
      "2  1956967696         10       [ 'funer ' , 'ceremonygloomi ' , 'friday ' ]\n",
      "3  1956967789          3  [ 'want ' , 'to ' , 'hang ' , 'out ' , 'with '...\n",
      "4  1956968416          8  [ 'we ' , 'want ' , 'to ' , 'trade ' , 'with '...\n"
     ]
    }
   ],
   "source": [
    "#mengubah data kategorikal menjadi numerik\n",
    "new_labels = {\n",
    "    'anger': 0,\n",
    "    'boredom': 1,\n",
    "    'empty': 2,\n",
    "    'enthusiasm': 3,\n",
    "    'fun': 4,\n",
    "    'happiness': 5,\n",
    "    'hate': 6,\n",
    "    'love': 7,\n",
    "    'neutral': 8,\n",
    "    'relief': 9,\n",
    "    'sadness': 10,\n",
    "    'surprise': 11,\n",
    "    'worry': 12\n",
    "}\n",
    "\n",
    "#Encode labels\n",
    "df['sentiment'] = df['sentiment'].map(new_labels)\n",
    "\n",
    "#Cek kembali data\n",
    "print(df.head())"
   ]
  },
  {
   "cell_type": "code",
   "execution_count": 51,
   "metadata": {},
   "outputs": [],
   "source": [
    "#Split data\n",
    "x = df['content']\n",
    "y = df['sentiment']"
   ]
  },
  {
   "cell_type": "code",
   "execution_count": 56,
   "metadata": {},
   "outputs": [],
   "source": [
    "#Ekstraksi fitur\n",
    "from sklearn.feature_extraction.text import CountVectorizer\n",
    "\n",
    "#Split Data Training dan Data Testing\n",
    "from sklearn.model_selection import train_test_split\n",
    "\n",
    "x_train, x_test, y_train, y_test = train_test_split(x, y, test_size=0.2, random_state=50)\n",
    "\n",
    "#Mengubah data menjadi vektor\n",
    "cv = CountVectorizer()\n",
    "x_train = cv.fit_transform(x_train)\n",
    "x_test = cv.transform(x_test)"
   ]
  },
  {
   "cell_type": "code",
   "execution_count": 57,
   "metadata": {},
   "outputs": [
    {
     "name": "stdout",
     "output_type": "stream",
     "text": [
      "              precision    recall  f1-score   support\n",
      "\n",
      "       anger       0.00      0.00      0.00        17\n",
      "     boredom       0.00      0.00      0.00        30\n",
      "       empty       0.00      0.00      0.00       174\n",
      "  enthusiasm       0.00      0.00      0.00       153\n",
      "         fun       0.00      0.00      0.00       347\n",
      "   happiness       0.35      0.32      0.33      1019\n",
      "        hate       0.60      0.01      0.02       259\n",
      "        love       0.50      0.31      0.38       732\n",
      "     neutral       0.35      0.42      0.38      1774\n",
      "      relief       0.00      0.00      0.00       306\n",
      "     sadness       0.31      0.14      0.20       995\n",
      "    surprise       0.17      0.00      0.00       468\n",
      "       worry       0.30      0.68      0.41      1726\n",
      "\n",
      "    accuracy                           0.33      8000\n",
      "   macro avg       0.20      0.15      0.13      8000\n",
      "weighted avg       0.30      0.33      0.28      8000\n",
      "\n",
      "Hasil akurasi data train: 0.512\n",
      "Hasil akurasi data test: 0.3285\n",
      "Hasil presisi data test: 0.2983489564399984\n"
     ]
    }
   ],
   "source": [
    "#Training And Evaluating Model\n",
    "from sklearn.naive_bayes import MultinomialNB\n",
    "from sklearn.metrics import accuracy_score, precision_score,classification_report\n",
    "\n",
    "#Multinomial Naive Bayes\n",
    "model = MultinomialNB()\n",
    "\n",
    "#Training\n",
    "model.fit(x_train, y_train)\n",
    "\n",
    "#prediksi data testing\n",
    "y_pred_test = model.predict(x_test)\n",
    "\n",
    "#prediksi data training\n",
    "y_pred_train = model.predict(x_train)  \n",
    "\n",
    "# Evaluasi akurasi data training\n",
    "acc_train = accuracy_score(y_train, y_pred_train)\n",
    "\n",
    "# Evaluasi akurasi data training\n",
    "acc_test = accuracy_score(y_test, y_pred_test)\n",
    "\n",
    "# Menghitung Precission\n",
    "precission = precision_score(y_test, y_pred_test, average='weighted',zero_division=0)\n",
    "\n",
    "print(classification_report(y_test, y_pred_test, target_names=new_labels.keys(),zero_division=0))\n",
    "\n",
    "# Print hasil evaluasi\n",
    "print(f'Hasil akurasi data train: {acc_train}')\n",
    "print(f'Hasil akurasi data test: {acc_test}')\n",
    "print(f'Hasil presisi data test: {precission}')"
   ]
  }
 ],
 "metadata": {
  "kernelspec": {
   "display_name": "Python 3.10.6 64-bit",
   "language": "python",
   "name": "python3"
  },
  "language_info": {
   "codemirror_mode": {
    "name": "ipython",
    "version": 3
   },
   "file_extension": ".py",
   "mimetype": "text/x-python",
   "name": "python",
   "nbconvert_exporter": "python",
   "pygments_lexer": "ipython3",
   "version": "3.10.6"
  },
  "orig_nbformat": 4,
  "vscode": {
   "interpreter": {
    "hash": "89e0abca33cf4a51fed40e84035a9d07b9b47798c9ddd5755346d755ba15d037"
   }
  }
 },
 "nbformat": 4,
 "nbformat_minor": 2
}
